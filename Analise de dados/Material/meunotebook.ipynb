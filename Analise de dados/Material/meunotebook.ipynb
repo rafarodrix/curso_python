{
 "cells": [
  {
   "cell_type": "code",
   "execution_count": 15,
   "id": "062c9c76-e96e-4844-b9fa-d9ec4626ca58",
   "metadata": {
    "tags": []
   },
   "outputs": [],
   "source": [
    "#Listas (é um conjunto de informação que )\n",
    "nomes = ['Rafael', 'Maria', 'Ana']\n",
    "idades = [10,20,15]\n",
    "\n",
    "#Tuplas (não muda ao longo do codigo)\n",
    "sexo = ('M', 'F', 'O')\n",
    "\n",
    "# Dicionario (guardar e acessar informação)\n",
    "cadastro = {'nomes': nomes,\n",
    "           'idades': idade,\n",
    "           'Cidade': ['A', 'B', 'C']}"
   ]
  },
  {
   "cell_type": "code",
   "execution_count": 6,
   "id": "0d04db9e-debe-4326-adcf-9f12b26d6ef5",
   "metadata": {},
   "outputs": [
    {
     "name": "stdout",
     "output_type": "stream",
     "text": [
      "Rafael\n",
      "Maria\n",
      "Ana\n"
     ]
    }
   ],
   "source": [
    "for nome in nomes:\n",
    "    print(nome)"
   ]
  },
  {
   "cell_type": "code",
   "execution_count": 16,
   "id": "fad80d41-ab44-48df-91ab-e561ba8b45d0",
   "metadata": {},
   "outputs": [
    {
     "name": "stdout",
     "output_type": "stream",
     "text": [
      "10\n",
      "20\n"
     ]
    }
   ],
   "source": [
    "for idade in idades:\n",
    "    if idade%2==0:\n",
    "        print(idade)"
   ]
  },
  {
   "cell_type": "code",
   "execution_count": 19,
   "id": "f629b0e0-4fe3-468b-9f97-a247e65a0cca",
   "metadata": {},
   "outputs": [
    {
     "name": "stdout",
     "output_type": "stream",
     "text": [
      "0\n",
      "1\n",
      "2\n",
      "3\n",
      "4\n"
     ]
    }
   ],
   "source": [
    "for i in range(0,5):\n",
    "    print(i)"
   ]
  },
  {
   "cell_type": "code",
   "execution_count": 23,
   "id": "2bb64221-05be-4679-8dba-155a1d4659e8",
   "metadata": {},
   "outputs": [
    {
     "name": "stdout",
     "output_type": "stream",
     "text": [
      "10\n"
     ]
    }
   ],
   "source": [
    "i = 0\n",
    "idade = idades[i]\n",
    "while idade <= 10:\n",
    "    print(idade)\n",
    "    i += 1\n",
    "    idade = idades[i]"
   ]
  },
  {
   "cell_type": "code",
   "execution_count": null,
   "id": "648f7209-fea5-42c6-8a03-ba6f487133e0",
   "metadata": {},
   "outputs": [],
   "source": []
  }
 ],
 "metadata": {
  "kernelspec": {
   "display_name": "Python 3 (ipykernel)",
   "language": "python",
   "name": "python3"
  },
  "language_info": {
   "codemirror_mode": {
    "name": "ipython",
    "version": 3
   },
   "file_extension": ".py",
   "mimetype": "text/x-python",
   "name": "python",
   "nbconvert_exporter": "python",
   "pygments_lexer": "ipython3",
   "version": "3.10.4"
  }
 },
 "nbformat": 4,
 "nbformat_minor": 5
}
