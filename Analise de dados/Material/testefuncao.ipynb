{
 "cells": [
  {
   "cell_type": "code",
   "execution_count": 1,
   "id": "392ee46b-def6-4b8a-81c0-381d1e1faad0",
   "metadata": {},
   "outputs": [],
   "source": [
    "import minhafuncao as mf"
   ]
  },
  {
   "cell_type": "code",
   "execution_count": 2,
   "id": "27974727-0fcc-4352-9f59-275778e39fed",
   "metadata": {},
   "outputs": [
    {
     "data": {
      "text/plain": [
       "'Criança'"
      ]
     },
     "execution_count": 2,
     "metadata": {},
     "output_type": "execute_result"
    }
   ],
   "source": [
    "mf.faixaIdade(10)"
   ]
  },
  {
   "cell_type": "code",
   "execution_count": 3,
   "id": "29dae962-7c84-4def-b5b5-5e45409061d6",
   "metadata": {},
   "outputs": [
    {
     "data": {
      "text/plain": [
       "'Idoso'"
      ]
     },
     "execution_count": 3,
     "metadata": {},
     "output_type": "execute_result"
    }
   ],
   "source": [
    "mf.faixaIdade(90)"
   ]
  },
  {
   "cell_type": "code",
   "execution_count": 4,
   "id": "c1f5ce2e-cb15-4cbd-958f-92a9132053ac",
   "metadata": {},
   "outputs": [
    {
     "data": {
      "text/plain": [
       "'Adolecente'"
      ]
     },
     "execution_count": 4,
     "metadata": {},
     "output_type": "execute_result"
    }
   ],
   "source": [
    "mf.faixaIdade(18)"
   ]
  },
  {
   "cell_type": "code",
   "execution_count": 5,
   "id": "ffeedaeb-d1d0-4186-adf8-e6997781e79a",
   "metadata": {},
   "outputs": [
    {
     "data": {
      "text/plain": [
       "'Adulto'"
      ]
     },
     "execution_count": 5,
     "metadata": {},
     "output_type": "execute_result"
    }
   ],
   "source": [
    "mf.faixaIdade(50)"
   ]
  },
  {
   "cell_type": "code",
   "execution_count": 2,
   "id": "1d53f4fc-855d-469a-8c19-0578bb6880dc",
   "metadata": {},
   "outputs": [
    {
     "data": {
      "text/plain": [
       "20"
      ]
     },
     "execution_count": 2,
     "metadata": {},
     "output_type": "execute_result"
    }
   ],
   "source": [
    "mf.somaQuad(2,4)"
   ]
  }
 ],
 "metadata": {
  "kernelspec": {
   "display_name": "Python 3 (ipykernel)",
   "language": "python",
   "name": "python3"
  },
  "language_info": {
   "codemirror_mode": {
    "name": "ipython",
    "version": 3
   },
   "file_extension": ".py",
   "mimetype": "text/x-python",
   "name": "python",
   "nbconvert_exporter": "python",
   "pygments_lexer": "ipython3",
   "version": "3.10.4"
  }
 },
 "nbformat": 4,
 "nbformat_minor": 5
}
