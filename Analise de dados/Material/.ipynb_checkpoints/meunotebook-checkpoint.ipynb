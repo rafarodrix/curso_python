{
 "cells": [
  {
   "cell_type": "code",
   "execution_count": null,
   "id": "062c9c76-e96e-4844-b9fa-d9ec4626ca58",
   "metadata": {
    "tags": []
   },
   "outputs": [
    {
     "ename": "NameError",
     "evalue": "name 'idade' is not defined",
     "output_type": "error",
     "traceback": [
      "\u001b[1;31m---------------------------------------------------------------------------\u001b[0m",
      "\u001b[1;31mNameError\u001b[0m                                 Traceback (most recent call last)",
      "\u001b[1;32m~\\AppData\\Local\\Temp\\ipykernel_3168\\745036449.py\u001b[0m in \u001b[0;36m<cell line: 8>\u001b[1;34m()\u001b[0m\n\u001b[0;32m      7\u001b[0m \u001b[1;33m\u001b[0m\u001b[0m\n\u001b[0;32m      8\u001b[0m cadastro = {'nomes': nomes,\n\u001b[1;32m----> 9\u001b[1;33m            \u001b[1;34m'idade'\u001b[0m\u001b[1;33m:\u001b[0m \u001b[0midade\u001b[0m\u001b[1;33m,\u001b[0m\u001b[1;33m\u001b[0m\u001b[1;33m\u001b[0m\u001b[0m\n\u001b[0m\u001b[0;32m     10\u001b[0m            'Cidade': ['A', 'B', 'C']}\n",
      "\u001b[1;31mNameError\u001b[0m: name 'idade' is not defined"
     ]
    }
   ],
   "source": [
    "#Listas (é um conjunto de informação que )\n",
    "nomes = ['Rafael', 'Maria', 'Ana']\n",
    "Idade = [10,20,15]\n",
    "\n",
    "#Tuplas (não muda ao longo do codigo)\n",
    "sexo = ('M', 'F', 'O')\n",
    "\n",
    "# Dicionario (guardar e acessar informação)\n",
    "cadastro = {'nomes': nomes,\n",
    "           'idade': idade,\n",
    "           'Cidade': cidade ['A', 'B', 'C']}"
   ]
  },
  {
   "cell_type": "code",
   "execution_count": 4,
   "id": "75fa6b30-9b60-4ca7-9faf-35450b0bac16",
   "metadata": {},
   "outputs": [
    {
     "data": {
      "text/plain": [
       "'Rafael'"
      ]
     },
     "execution_count": 4,
     "metadata": {},
     "output_type": "execute_result"
    }
   ],
   "source": [
    "nomes[0]"
   ]
  },
  {
   "cell_type": "code",
   "execution_count": 5,
   "id": "adca8076-da76-4f1b-9cea-ba9924ed2a5f",
   "metadata": {},
   "outputs": [
    {
     "ename": "NameError",
     "evalue": "name 'cadastro' is not defined",
     "output_type": "error",
     "traceback": [
      "\u001b[1;31m---------------------------------------------------------------------------\u001b[0m",
      "\u001b[1;31mNameError\u001b[0m                                 Traceback (most recent call last)",
      "\u001b[1;32m~\\AppData\\Local\\Temp\\ipykernel_3168\\1455808182.py\u001b[0m in \u001b[0;36m<cell line: 1>\u001b[1;34m()\u001b[0m\n\u001b[1;32m----> 1\u001b[1;33m \u001b[0mcadastro\u001b[0m\u001b[1;33m[\u001b[0m\u001b[1;34m'nomes'\u001b[0m\u001b[1;33m]\u001b[0m\u001b[1;33m[\u001b[0m\u001b[1;36m0\u001b[0m\u001b[1;33m]\u001b[0m\u001b[1;33m\u001b[0m\u001b[1;33m\u001b[0m\u001b[0m\n\u001b[0m",
      "\u001b[1;31mNameError\u001b[0m: name 'cadastro' is not defined"
     ]
    }
   ],
   "source": [
    "cadastro['nomes'][0]"
   ]
  },
  {
   "cell_type": "code",
   "execution_count": null,
   "id": "0d04db9e-debe-4326-adcf-9f12b26d6ef5",
   "metadata": {},
   "outputs": [],
   "source": []
  }
 ],
 "metadata": {
  "kernelspec": {
   "display_name": "Python 3 (ipykernel)",
   "language": "python",
   "name": "python3"
  },
  "language_info": {
   "codemirror_mode": {
    "name": "ipython",
    "version": 3
   },
   "file_extension": ".py",
   "mimetype": "text/x-python",
   "name": "python",
   "nbconvert_exporter": "python",
   "pygments_lexer": "ipython3",
   "version": "3.10.4"
  }
 },
 "nbformat": 4,
 "nbformat_minor": 5
}
